{
 "cells": [
  {
   "cell_type": "markdown",
   "metadata": {},
   "source": [
    "## COVID19- Argentina\n"
   ]
  },
  {
   "cell_type": "code",
   "execution_count": null,
   "metadata": {},
   "outputs": [],
   "source": [
    "#hide\n",
    "import os\n",
    "import numpy as np\n",
    "import pandas as pd\n",
    "import glob\n",
    "import locale\n",
    "import altair as alt\n",
    "from altair import datum\n",
    "from jinja2 import Template\n",
    "\n",
    "#\n",
    "from IPython.display import HTML\n",
    "# Set Language\n",
    "_=locale.setlocale(locale.LC_TIME,'es_ES.utf8')"
   ]
  },
  {
   "cell_type": "code",
   "execution_count": null,
   "metadata": {},
   "outputs": [],
   "source": [
    "# helpers\n",
    "def cat_df(data_src):\n",
    "    lst_=glob.glob(data_src)\n",
    "    lst_.sort()\n",
    "    lst_df_=[]\n",
    "    for l in lst_:\n",
    "        df_=pd.read_csv(l,parse_dates=[0])\n",
    "        lst_df_.append(df_)\n",
    "    df_cat_=pd.concat(lst_df_,axis=0,)\n",
    "    df_cat_['fecha']=pd.to_datetime(df_cat_['fecha'].dt.strftime('%Y-%m-%d'))\n",
    "    # Group all with \"FIX\"\n",
    "    df_cat_=df_cat_.groupby(['provincia','fecha'])[['confirmados','muertes','recuperados']].sum().reset_index()\n",
    "    return df_cat_\n",
    "#\n",
    "provDict={'Ciudad Autónoma de Buenos Aire':'CABA'}\n"
   ]
  },
  {
   "cell_type": "code",
   "execution_count": null,
   "metadata": {},
   "outputs": [],
   "source": [
    "# CSV sources\n",
    "data_src_provincia = '../../data/filled/*provincia*.csv'\n",
    "data_src_argentina = '../../data/filled/*argentina*.csv'\n",
    "data_prod = '../../products'\n",
    "data_includes_ = '../_includes'\n",
    "os.makedirs(data_prod, exist_ok=True)\n",
    "os.makedirs(data_includes_, exist_ok=True)\n",
    "#\n",
    "df_ = pd.concat([cat_df(data_src_provincia), cat_df(data_src_argentina)])\n",
    "df_['provincia'] = df_['provincia'].apply(\n",
    "    lambda x: provDict[x] if x in provDict else x)\n",
    "df_.head()"
   ]
  },
  {
   "cell_type": "code",
   "execution_count": null,
   "metadata": {},
   "outputs": [],
   "source": [
    "# make cumsum on df_\n",
    "df_cumsum_=df_.groupby(['provincia'])[['confirmados','muertes','recuperados']].cumsum().add_prefix('cumsum_')\n",
    "# concat dfs\n",
    "df_cat=pd.concat([df_,df_cumsum_],axis=1)"
   ]
  },
  {
   "cell_type": "code",
   "execution_count": null,
   "metadata": {},
   "outputs": [],
   "source": [
    "df_cat"
   ]
  },
  {
   "cell_type": "code",
   "execution_count": null,
   "metadata": {},
   "outputs": [],
   "source": [
    "#\n",
    "source=df_cat\n",
    "circ=alt.Chart(source).mark_circle(color='orange').encode(\n",
    "    x=alt.X('fecha:T',axis=alt.Axis(title='Fecha'),),\n",
    "    y=alt.Y('provincia',axis=alt.Axis(title='Provincias/Nación')),\n",
    "    size='confirmados',\n",
    "    tooltip=['confirmados', 'fecha','provincia','muertes']\n",
    ").properties(width=600, height=600).interactive()\n"
   ]
  },
  {
   "cell_type": "code",
   "execution_count": null,
   "metadata": {},
   "outputs": [],
   "source": [
    "circ"
   ]
  },
  {
   "cell_type": "code",
   "execution_count": null,
   "metadata": {},
   "outputs": [],
   "source": [
    "#\n",
    "pts = alt.selection(type=\"single\", encodings=['x'])\n",
    "rect=alt.Chart(source).mark_rect().encode(\n",
    "    alt.Y('provincia:O', title='Provincias/Nacion'),\n",
    "    alt.X('monthdate(fecha):O', title='Fecha'),\n",
    "    alt.Color('confirmados:Q', title='Casos Confirmados',),\n",
    "tooltip=['confirmados', 'fecha','provincia','muertes','recuperados']\n",
    ").properties(width=600, height=600).interactive()\n",
    "rect"
   ]
  },
  {
   "cell_type": "code",
   "execution_count": null,
   "metadata": {},
   "outputs": [],
   "source": [
    "from scipy import stats\n",
    "df_reg=source[source.provincia=='Argentina_Nacion'].copy()\n",
    "#0 based\n",
    "dayFit=np.arange(6,15,1)\n",
    "deltaT=dayFit[1]-dayFit[0]\n",
    "y=df_reg.iloc[dayFit]['cumsum_confirmados'].values\n",
    "x=dayFit\n",
    "#\n",
    "slope, intercept,_,_,_=stats.linregress(x,np.log(y))\n",
    "#\n",
    "fitted=np.exp(intercept)*np.exp(slope)**np.arange(0,df_reg.shape[0],1)\n",
    "#\n",
    "df_reg['fitted']=np.nan\n",
    "df_reg['fitted']=fitted\n",
    "df_reg['fitted_flag']='extrapolado'\n",
    "df_reg.loc[dayFit,'fitted_flag']='ajustado'\n",
    "df_reg['daily_expected']=df_reg['fitted'].diff().fillna(0)"
   ]
  },
  {
   "cell_type": "code",
   "execution_count": null,
   "metadata": {},
   "outputs": [],
   "source": [
    "pts = alt.selection(type=\"single\", encodings=['x'],empty='none')\n",
    "#\n",
    "points = alt.Chart(source).mark_circle(color='orange').encode(\n",
    "    alt.X('fecha:T',title='Fecha'),\n",
    "    alt.Y('cumsum_confirmados:Q',scale=alt.Scale(type='log'),title='#Confirmados Totales en Argentina (log scale)'),\n",
    "    size=alt.Size('confirmados',title='#Confirmados(dia)'),\n",
    "    color=alt.condition(pts, 'confirmados:Q', alt.value('orange'),legend=None),\n",
    "    tooltip=['confirmados', 'fecha','provincia','muertes','recuperados']\n",
    ").properties(        width=550,\n",
    "        height=400).transform_filter((datum.provincia == 'Argentina_Nacion')).add_selection(pts)\n",
    "\n",
    "tooltip_bars=[alt.Tooltip('cumsum_confirmados:Q', title='#Confirmados Totales'),alt.Tooltip('fecha:T', title='Fecha'),alt.Tooltip('provincia:N', title='Provincia')]\n",
    "\n",
    "bars = alt.Chart(source).mark_bar().encode(\n",
    "       alt.X('provincia:N',axis=alt.Axis(minExtent=100),title='Provincia de Residencia'),\n",
    "        alt.Y('cumsum_confirmados:Q',title='Confirmados x Provincia'),\n",
    "        color=alt.Color('cumsum_confirmados:Q',title='Confirmados x Provincia',legend=None),\n",
    "        tooltip=tooltip_bars).properties(  \n",
    "    width=550,\n",
    "        height=220\n",
    "    ).transform_filter(datum.provincia != 'Argentina_Nacion').transform_filter((pts)).interactive()\n",
    "\n",
    "texts = alt.Chart(source).mark_text(dy=0, size=20).encode(\n",
    "    text='fecha:T'\n",
    ").transform_filter(\n",
    "    pts\n",
    ")\n",
    "\n",
    "#Regression\n",
    "reg= alt.Chart(df_reg).mark_line(opacity=0.2,point=True).encode(\n",
    "    alt.X('fecha:T',title='Fecha'),\n",
    "    alt.Y('fitted:Q',scale=alt.Scale(type='log'),title='#Confirmados Totales en Argentina (log scale)'),\n",
    "    color=alt.Color('fitted_flag',\n",
    "                   scale=alt.Scale(\n",
    "            domain=['extrapolado', 'ajustado'],\n",
    "            range=['red', 'green']),title='#Confirmados(t)=a*b^t'),\n",
    "    tooltip=['daily_expected'], \n",
    ").properties(        width=550,\n",
    "        height=400).interactive()\n"
   ]
  },
  {
   "cell_type": "code",
   "execution_count": null,
   "metadata": {},
   "outputs": [],
   "source": [
    "alt.vconcat(points+reg, bars+texts)"
   ]
  },
  {
   "cell_type": "code",
   "execution_count": null,
   "metadata": {},
   "outputs": [],
   "source": []
  }
 ],
 "metadata": {
  "kernelspec": {
   "display_name": "Python 3",
   "language": "python",
   "name": "python3"
  },
  "language_info": {
   "codemirror_mode": {
    "name": "ipython",
    "version": 3
   },
   "file_extension": ".py",
   "mimetype": "text/x-python",
   "name": "python",
   "nbconvert_exporter": "python",
   "pygments_lexer": "ipython3",
   "version": "3.7.6"
  }
 },
 "nbformat": 4,
 "nbformat_minor": 4
}
