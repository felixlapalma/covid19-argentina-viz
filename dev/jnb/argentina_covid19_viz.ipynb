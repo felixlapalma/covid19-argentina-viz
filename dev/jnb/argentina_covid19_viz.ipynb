{
 "cells": [
  {
   "cell_type": "markdown",
   "metadata": {},
   "source": [
    "## COVID19- Argentina\n",
    "\n",
    "Visualización de casos basado en:\n",
    "\n",
    "- https://github.com/pratapvardhan/notebooks/blob/master/covid19/covid19-overview.ipynb\n",
    " "
   ]
  },
  {
   "cell_type": "code",
   "execution_count": null,
   "metadata": {},
   "outputs": [],
   "source": [
    "#hide\n",
    "import os\n",
    "import numpy as np\n",
    "import pandas as pd\n",
    "import glob\n",
    "import locale\n",
    "#\n",
    "from jinja2 import Template\n",
    "from IPython.display import HTML\n",
    "# Set Language\n",
    "_=locale.setlocale(locale.LC_TIME,'es_ES.utf8')"
   ]
  },
  {
   "cell_type": "code",
   "execution_count": null,
   "metadata": {},
   "outputs": [],
   "source": [
    "# helpers\n",
    "def cat_df(data_src):\n",
    "    lst_=glob.glob(data_src)\n",
    "    lst_.sort()\n",
    "    lst_df_=[]\n",
    "    for l in lst_:\n",
    "        df_=pd.read_csv(l,parse_dates=[0])\n",
    "        lst_df_.append(df_)\n",
    "    df_cat_=pd.concat(lst_df_,axis=0,)\n",
    "    df_cat_['fecha']=pd.to_datetime(df_cat_['fecha'].dt.strftime('%Y-%m-%d'))\n",
    "    return df_cat_\n",
    "#\n",
    "def get_frame_unstack(df_,oncol,group_by_lst=['provincia','fecha']):\n",
    "    s=df_.groupby(group_by_lst)[oncol].sum().unstack()\n",
    "    return s\n",
    "\n",
    "def get_template(path):\n",
    "    from urllib.parse import urlparse\n",
    "    if bool(urlparse(path).netloc):\n",
    "        from urllib.request import urlopen\n",
    "        return urlopen(path).read().decode('utf8')\n",
    "    return open(path).read()\n",
    "#\n",
    "provDict={'Ciudad Autónoma de Buenos Aire':'CABA'}\n"
   ]
  },
  {
   "cell_type": "code",
   "execution_count": null,
   "metadata": {},
   "outputs": [],
   "source": [
    "# CSV sources\n",
    "data_src='../../data/filled/*.csv'\n",
    "data_prod='../../products'\n",
    "os.makedirs(data_prod,exist_ok=True)\n",
    "#\n",
    "df_=cat_df(data_src)\n",
    "df_['provincia']=df_['provincia'].apply(lambda x: provDict[x] if x in provDict else x )\n",
    "df_.head()"
   ]
  },
  {
   "cell_type": "code",
   "execution_count": null,
   "metadata": {},
   "outputs": [],
   "source": [
    "# Get cases\n",
    "dft_cases = get_frame_unstack(df_,'confirmados')\n",
    "dft_deaths = get_frame_unstack(df_,'muertes')\n",
    "dft_recovered = get_frame_unstack(df_,'recuperados')\n",
    "# dates\n",
    "last_=dft_cases.columns[-1]\n",
    "nlast_=dft_cases.columns[-6]"
   ]
  },
  {
   "cell_type": "code",
   "execution_count": null,
   "metadata": {},
   "outputs": [],
   "source": [
    "# stats\n",
    "dfc_cases = dft_cases.cumsum(axis=1)[last_]\n",
    "dfc_deaths = dft_deaths.cumsum(axis=1)[last_]\n",
    "dfc_recovered = dft_recovered.cumsum(axis=1)[last_]\n",
    "dfp_cases = dft_cases.cumsum(axis=1)[nlast_]\n",
    "dfp_deaths = dft_deaths.cumsum(axis=1)[nlast_]\n",
    "dfp_recovered = dft_recovered.cumsum(axis=1)[nlast_]\n",
    "#\n",
    "cstr=['confirmados','muertes','recuperados']\n",
    "#hide\n",
    "df_table = (pd.DataFrame(dict(\n",
    "    confirmados=dfc_cases, muertes=dfc_deaths, recuperados=dfc_recovered,\n",
    "    Pconfirmados=dfp_cases, Pmuertes=dfp_deaths, Precuperados=dfp_recovered))\n",
    "             .sort_values(by=['confirmados', 'muertes'], ascending=[False, False])\n",
    "             .reset_index())\n",
    "for c in cstr:\n",
    "    df_table[f'{c} (+)'] = (df_table[c] - df_table[f'P{c}']).clip(0)  # DATA BUG\n",
    "df_table['Tasa Fatalidad'] = (100 * df_table['muertes'] / df_table['confirmados']).round(1)\n",
    "df_table=df_table.fillna(0)\n",
    "#\n",
    "metrics = ['confirmados', 'muertes', 'recuperados', 'confirmados (+)', 'muertes (+)', 'recuperados (+)']\n",
    "s_caba = df_table[df_table['provincia'].eq('CABA')][metrics].sum().add_prefix('CABA ')\n",
    "s_bsas = df_table[df_table['provincia'].eq('Buenos Aires')][metrics].sum().add_prefix('BSAS ')\n",
    "s_cba = df_table[df_table['provincia'].eq('Córdoba')][metrics].sum().add_prefix('CBA ')\n",
    "summary = {'updated': pd.to_datetime(last_), 'since': pd.to_datetime(nlast_)}\n",
    "summary = {**summary, **df_table[metrics].sum(), **s_caba, **s_bsas, **s_cba}\n",
    "#\n",
    "dft_ct_cases = dft_cases.cumsum(axis=1)\n",
    "dft_ct_new_cases = dft_ct_cases.diff(axis=1).fillna(0).astype(int)\n"
   ]
  },
  {
   "cell_type": "markdown",
   "metadata": {},
   "source": [
    "### Template"
   ]
  },
  {
   "cell_type": "code",
   "execution_count": null,
   "metadata": {},
   "outputs": [],
   "source": [
    "#hide_input\n",
    "template = Template(get_template('../overview_argentina.tpl'))\n",
    "html = template.render(\n",
    "    D=summary, table=df_table,  # REMOVE .head(20) to see all values\n",
    "    newcases=dft_ct_new_cases.loc[:,:],\n",
    "    np=np, pd=pd, enumerate=enumerate)\n",
    "name_html=os.path.join(data_prod,last_.strftime('%Y%m%d')+'_reporte.html')\n",
    "with open(name_html,'w') as f:\n",
    "    f.write(f'<div>{html}</div>')\n",
    "HTML(f'<div>{html}</div>')"
   ]
  }
 ],
 "metadata": {
  "kernelspec": {
   "display_name": "Python 3",
   "language": "python",
   "name": "python3"
  },
  "language_info": {
   "codemirror_mode": {
    "name": "ipython",
    "version": 3
   },
   "file_extension": ".py",
   "mimetype": "text/x-python",
   "name": "python",
   "nbconvert_exporter": "python",
   "pygments_lexer": "ipython3",
   "version": "3.7.6"
  }
 },
 "nbformat": 4,
 "nbformat_minor": 4
}
